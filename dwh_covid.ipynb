{
 "cells": [
  {
   "cell_type": "markdown",
   "id": "7eb3e41b-11bc-4c89-a2d4-973642a106e8",
   "metadata": {},
   "source": [
    "### DWH en la capa golden en formato .parquet\n",
    "Se realiza el modelado de los datos utilizando un Esquema Estrella."
   ]
  },
  {
   "cell_type": "markdown",
   "id": "8e767282-1515-403c-a351-26f4b479a95f",
   "metadata": {},
   "source": [
    "<p align=\"center\">\n",
    "  <img src=\"DER_Modelo_Covid19.png\" width=\"500\">\n",
    "</p>"
   ]
  },
  {
   "cell_type": "markdown",
   "id": "3e4fb15e-2a1c-4d59-a10c-4e39a852ca31",
   "metadata": {},
   "source": [
    "Se obtienen los datos desde la capa Silver para modelarlos."
   ]
  },
  {
   "cell_type": "code",
   "execution_count": 1,
   "id": "c56a1998-4dad-4165-bb8b-6612991ea46b",
   "metadata": {
    "collapsed": true,
    "jupyter": {
     "outputs_hidden": true,
     "source_hidden": true
    }
   },
   "outputs": [
    {
     "name": "stderr",
     "output_type": "stream",
     "text": [
      "Setting default log level to \"WARN\".\n",
      "To adjust logging level use sc.setLogLevel(newLevel). For SparkR, use setLogLevel(newLevel).\n",
      "25/07/22 19:38:33 WARN NativeCodeLoader: Unable to load native-hadoop library for your platform... using builtin-java classes where applicable\n",
      "25/07/22 19:38:35 WARN Utils: Service 'SparkUI' could not bind on port 4040. Attempting port 4041.\n",
      "25/07/22 19:38:35 WARN Utils: Service 'SparkUI' could not bind on port 4041. Attempting port 4042.\n",
      "                                                                                "
     ]
    },
    {
     "name": "stdout",
     "output_type": "stream",
     "text": [
      "+--------------------+-------------------+---------+----------+----------+-----------+-------+-----------+-------+--------------------+\n",
      "|    provincia_estado|               pais|      lat|      long|     fecha|confirmados|muertes|recuperados|activos|          region_who|\n",
      "+--------------------+-------------------+---------+----------+----------+-----------+-------+-----------+-------+--------------------+\n",
      "|         Desconocido|        Afghanistan| 33.93911| 67.709953|2020-01-22|          0|      0|          0|      0|Eastern Mediterra...|\n",
      "|         Desconocido|            Albania|  41.1533|   20.1683|2020-01-22|          0|      0|          0|      0|              Europe|\n",
      "|         Desconocido|            Algeria|  28.0339|    1.6596|2020-01-22|          0|      0|          0|      0|              Africa|\n",
      "|         Desconocido|            Andorra|  42.5063|    1.5218|2020-01-22|          0|      0|          0|      0|              Europe|\n",
      "|         Desconocido|             Angola| -11.2027|   17.8739|2020-01-22|          0|      0|          0|      0|              Africa|\n",
      "|         Desconocido|Antigua and Barbuda|  17.0608|  -61.7964|2020-01-22|          0|      0|          0|      0|            Americas|\n",
      "|         Desconocido|          Argentina| -38.4161|  -63.6167|2020-01-22|          0|      0|          0|      0|            Americas|\n",
      "|         Desconocido|            Armenia|  40.0691|   45.0382|2020-01-22|          0|      0|          0|      0|              Europe|\n",
      "|Australian Capita...|          Australia| -35.4735|  149.0124|2020-01-22|          0|      0|          0|      0|     Western Pacific|\n",
      "|     New South Wales|          Australia| -33.8688|  151.2093|2020-01-22|          0|      0|          0|      0|     Western Pacific|\n",
      "|  Northern Territory|          Australia| -12.4634|  130.8456|2020-01-22|          0|      0|          0|      0|     Western Pacific|\n",
      "|          Queensland|          Australia| -27.4698|  153.0251|2020-01-22|          0|      0|          0|      0|     Western Pacific|\n",
      "|     South Australia|          Australia| -34.9285|  138.6007|2020-01-22|          0|      0|          0|      0|     Western Pacific|\n",
      "|            Tasmania|          Australia| -42.8821|  147.3272|2020-01-22|          0|      0|          0|      0|     Western Pacific|\n",
      "|            Victoria|          Australia| -37.8136|  144.9631|2020-01-22|          0|      0|          0|      0|     Western Pacific|\n",
      "|   Western Australia|          Australia| -31.9505|  115.8605|2020-01-22|          0|      0|          0|      0|     Western Pacific|\n",
      "|         Desconocido|            Austria|  47.5162|   14.5501|2020-01-22|          0|      0|          0|      0|              Europe|\n",
      "|         Desconocido|         Azerbaijan|  40.1431|   47.5769|2020-01-22|          0|      0|          0|      0|              Europe|\n",
      "|         Desconocido|            Bahamas|25.025885|-78.035889|2020-01-22|          0|      0|          0|      0|            Americas|\n",
      "|         Desconocido|            Bahrain|  26.0275|     50.55|2020-01-22|          0|      0|          0|      0|Eastern Mediterra...|\n",
      "+--------------------+-------------------+---------+----------+----------+-----------+-------+-----------+-------+--------------------+\n",
      "only showing top 20 rows\n",
      "\n"
     ]
    }
   ],
   "source": [
    "from pyspark.sql import SparkSession\n",
    "from pyspark.sql.functions import col, monotonically_increasing_id, year, month, dayofmonth, date_format\n",
    "\n",
    "# Crear la sesión de Spark\n",
    "spark = SparkSession.builder \\\n",
    "    .appName(\"dwh_covid\") \\\n",
    "    .master(\"local[*]\") \\\n",
    "    .getOrCreate()\n",
    "\n",
    "df_spark = spark.read.parquet(\"/opt/spark/scripts/data/silver/casos_diarios\")\n",
    "df_spark.show()"
   ]
  },
  {
   "cell_type": "markdown",
   "id": "8f81092e-2801-4b79-a6d0-11dc27d20fb6",
   "metadata": {},
   "source": [
    "Se crea la **dimension \"ubicacion\"** a partir de la tabla con un distinct. Para el id de la dimension también podria ser utilizando un hash para generar la clave subrogada, en este caso, se utiliza una columna autonumérica."
   ]
  },
  {
   "cell_type": "code",
   "execution_count": 2,
   "id": "284d89a9-2125-497f-8857-92c402d05e11",
   "metadata": {
    "jupyter": {
     "source_hidden": true
    }
   },
   "outputs": [],
   "source": [
    "dim_ubicacion = df_spark.select(\n",
    "    col(\"pais\").alias(\"pais\"), \n",
    "    col(\"provincia_estado\").alias(\"provincia_estado\"),\n",
    "    col(\"lat\").cast(\"double\").alias(\"latitud\"),\n",
    "    col(\"long\").cast(\"double\").alias(\"longitud\"),\n",
    "    col(\"region_who\").alias(\"region_oms\")\n",
    ").distinct().withColumn(\"id_ubicacion\", monotonically_increasing_id())"
   ]
  },
  {
   "cell_type": "markdown",
   "id": "c3e99179-081f-4a5a-9173-70603b800722",
   "metadata": {},
   "source": [
    "Se crea la **dimension \"fecha\"** a partir de la tabla con un distinct. La dimension fecha normalmente es una dimension estatica y se podria generar una unica vez, en este caso se genera a partir de los datos de la tabla."
   ]
  },
  {
   "cell_type": "code",
   "execution_count": 3,
   "id": "2b23f6b5-f143-4a26-bac6-3508b7caed53",
   "metadata": {
    "jupyter": {
     "source_hidden": true
    }
   },
   "outputs": [],
   "source": [
    "df_con_fecha = df_spark.withColumn(\"fecha\", col(\"fecha\").cast(\"date\"))\n",
    "dim_fecha = df_con_fecha.select(\"fecha\").distinct() \\\n",
    "    .withColumn(\"id_fecha\", date_format(\"fecha\", \"yyyyMMdd\").cast(\"int\")) \\\n",
    "    .withColumn(\"anio\", year(\"fecha\")) \\\n",
    "    .withColumn(\"mes\", month(\"fecha\")) \\\n",
    "    .withColumn(\"dia\", dayofmonth(\"fecha\")) \\\n",
    "    .withColumn(\"dia_semana\", date_format(\"fecha\", \"EEEE\"))"
   ]
  },
  {
   "cell_type": "markdown",
   "id": "dda8eca4-30a4-4b11-8724-be6eae6d8103",
   "metadata": {},
   "source": [
    "Se crea la **tabla de hechos fact_covid_casos**. Normalmente una tabla de hechos contiene mayormente datos numericos (medidas) y los ids de las dimensiones. "
   ]
  },
  {
   "cell_type": "code",
   "execution_count": 4,
   "id": "4bea7b7d-1686-41dd-b847-6c432b271d03",
   "metadata": {
    "collapsed": true,
    "jupyter": {
     "outputs_hidden": true,
     "source_hidden": true
    },
    "scrolled": true
   },
   "outputs": [
    {
     "name": "stderr",
     "output_type": "stream",
     "text": [
      "                                                                                "
     ]
    },
    {
     "name": "stdout",
     "output_type": "stream",
     "text": [
      "+--------+------------+-----------+-------+-----------+-------+\n",
      "|id_fecha|id_ubicacion|confirmados|muertes|recuperados|activos|\n",
      "+--------+------------+-----------+-------+-----------+-------+\n",
      "|20200122|48          |0          |0      |0          |0      |\n",
      "|20200122|13          |0          |0      |0          |0      |\n",
      "|20200122|58          |0          |0      |0          |0      |\n",
      "|20200122|188         |0          |0      |0          |0      |\n",
      "|20200122|8           |0          |0      |0          |0      |\n",
      "|20200122|251         |0          |0      |0          |0      |\n",
      "|20200122|153         |0          |0      |0          |0      |\n",
      "|20200122|77          |0          |0      |0          |0      |\n",
      "|20200122|180         |0          |0      |0          |0      |\n",
      "|20200122|46          |0          |0      |0          |0      |\n",
      "|20200122|42          |0          |0      |0          |0      |\n",
      "|20200122|258         |0          |0      |0          |0      |\n",
      "|20200122|85          |0          |0      |0          |0      |\n",
      "|20200122|32          |0          |0      |0          |0      |\n",
      "|20200122|132         |0          |0      |0          |0      |\n",
      "|20200122|72          |0          |0      |0          |0      |\n",
      "|20200122|112         |0          |0      |0          |0      |\n",
      "|20200122|6           |0          |0      |0          |0      |\n",
      "|20200122|147         |0          |0      |0          |0      |\n",
      "|20200122|7           |0          |0      |0          |0      |\n",
      "+--------+------------+-----------+-------+-----------+-------+\n",
      "only showing top 20 rows\n",
      "\n"
     ]
    }
   ],
   "source": [
    "# Primero unir con dimension ubicación para obtener id_ubicacion\n",
    "df_hechos = df_con_fecha.join(dim_ubicacion,\n",
    "    (df_con_fecha[\"pais\"] == dim_ubicacion[\"pais\"]) &\n",
    "    (df_con_fecha[\"provincia_estado\"] == dim_ubicacion[\"provincia_estado\"])\n",
    ")\n",
    "\n",
    "# Luego unir con dimensión fecha\n",
    "df_fact_covid = df_hechos.join(dim_fecha, df_con_fecha[\"fecha\"] == dim_fecha[\"fecha\"])\n",
    "\n",
    "# Seleccionar columnas finales\n",
    "fact_covid_casos = df_fact_covid.select(\n",
    "    \"id_fecha\",\n",
    "    \"id_ubicacion\",\n",
    "    col(\"confirmados\").cast(\"int\").alias(\"confirmados\"),\n",
    "    col(\"muertes\").cast(\"int\").alias(\"muertes\"),\n",
    "    col(\"recuperados\").cast(\"int\").alias(\"recuperados\"),\n",
    "    col(\"activos\").cast(\"int\").alias(\"activos\")\n",
    ")\n",
    "\n",
    "fact_covid_casos.show(truncate  = False)"
   ]
  },
  {
   "cell_type": "markdown",
   "id": "19d70438-c83e-49b5-9a7c-62136f5c6d85",
   "metadata": {},
   "source": [
    "Se guardan las dimensiones y la tabla de hechos en parquet en la capa Golden"
   ]
  },
  {
   "cell_type": "code",
   "execution_count": 5,
   "id": "4bf8e696-396d-4d8f-ab81-4795861c0fba",
   "metadata": {
    "collapsed": true,
    "jupyter": {
     "outputs_hidden": true,
     "source_hidden": true
    }
   },
   "outputs": [
    {
     "name": "stderr",
     "output_type": "stream",
     "text": [
      "                                                                                "
     ]
    }
   ],
   "source": [
    "dim_ubicacion.write.mode(\"overwrite\").parquet(\"/opt/spark/scripts/data/golden/dim_ubicacion\")\n",
    "dim_fecha.write.mode(\"overwrite\").parquet(\"/opt/spark/scripts/data/golden/dim_fecha\")\n",
    "fact_covid_casos.write.mode(\"overwrite\").parquet(\"/opt/spark/scripts/data/golden/fact_covid_casos\")"
   ]
  },
  {
   "cell_type": "markdown",
   "id": "df3b68fe-0af6-4c38-a404-cce5024f9a9f",
   "metadata": {},
   "source": [
    "Se verifican las dimensiones y tablas de hechos"
   ]
  },
  {
   "cell_type": "code",
   "execution_count": 6,
   "id": "638a52c8-41d8-4fdd-8557-cbf37cbca2fc",
   "metadata": {
    "collapsed": true,
    "jupyter": {
     "outputs_hidden": true,
     "source_hidden": true
    }
   },
   "outputs": [
    {
     "name": "stdout",
     "output_type": "stream",
     "text": [
      "+--------------------+--------------------+---------+-------------------+--------------------+------------+\n",
      "|                pais|    provincia_estado|  latitud|           longitud|          region_oms|id_ubicacion|\n",
      "+--------------------+--------------------+---------+-------------------+--------------------+------------+\n",
      "|   Equatorial Guinea|         Desconocido|   1.6508|            10.2679|              Africa|           0|\n",
      "|               Malta|         Desconocido|  35.9375|            14.3754|              Europe|           1|\n",
      "|             Moldova|         Desconocido|  47.4116|            28.3699|              Europe|           2|\n",
      "|              Kosovo|         Desconocido|42.602636|          20.902977|              Europe|           3|\n",
      "|      United Kingdom|            Anguilla|  18.2206|           -63.0686|              Europe|           4|\n",
      "|      Western Sahara|         Desconocido|  24.2155|           -12.8858|              Africa|           5|\n",
      "|          Azerbaijan|         Desconocido|  40.1431|            47.5769|              Europe|           6|\n",
      "|             Bahrain|         Desconocido|  26.0275|              50.55|Eastern Mediterra...|           7|\n",
      "|              Angola|         Desconocido| -11.2027|            17.8739|              Africa|           8|\n",
      "|Saint Vincent and...|         Desconocido|  12.9843|           -61.2872|            Americas|           9|\n",
      "|              France|Saint Pierre and ...|  46.8852|           -56.3159|              Europe|          10|\n",
      "|               China|               Hunan|  27.6104|           111.7088|     Western Pacific|          11|\n",
      "|            Suriname|         Desconocido|   3.9193|           -56.0278|            Americas|          12|\n",
      "|             Albania|         Desconocido|  41.1533|            20.1683|              Europe|          13|\n",
      "|               China|               Anhui|  31.8257|           117.2264|     Western Pacific|          14|\n",
      "|             Croatia|         Desconocido|     45.1|               15.2|              Europe|          15|\n",
      "|             Grenada|         Desconocido|  12.1165|-61.678999999999995|            Americas|          16|\n",
      "|            Botswana|         Desconocido| -22.3285|            24.6849|              Africa|          17|\n",
      "|              Brazil|         Desconocido|  -14.235|           -51.9253|            Americas|          18|\n",
      "|                Chad|         Desconocido|  15.4542|            18.7322|              Africa|          19|\n",
      "+--------------------+--------------------+---------+-------------------+--------------------+------------+\n",
      "only showing top 20 rows\n",
      "\n",
      "+----------+--------+----+---+---+----------+\n",
      "|     fecha|id_fecha|anio|mes|dia|dia_semana|\n",
      "+----------+--------+----+---+---+----------+\n",
      "|2020-07-24|20200724|2020|  7| 24|    Friday|\n",
      "|2020-04-30|20200430|2020|  4| 30|  Thursday|\n",
      "|2020-03-07|20200307|2020|  3|  7|  Saturday|\n",
      "|2020-03-13|20200313|2020|  3| 13|    Friday|\n",
      "|2020-02-04|20200204|2020|  2|  4|   Tuesday|\n",
      "|2020-02-15|20200215|2020|  2| 15|  Saturday|\n",
      "|2020-05-23|20200523|2020|  5| 23|  Saturday|\n",
      "|2020-02-12|20200212|2020|  2| 12| Wednesday|\n",
      "|2020-05-08|20200508|2020|  5|  8|    Friday|\n",
      "|2020-05-24|20200524|2020|  5| 24|    Sunday|\n",
      "|2020-06-04|20200604|2020|  6|  4|  Thursday|\n",
      "|2020-04-29|20200429|2020|  4| 29| Wednesday|\n",
      "|2020-05-10|20200510|2020|  5| 10|    Sunday|\n",
      "|2020-01-25|20200125|2020|  1| 25|  Saturday|\n",
      "|2020-04-26|20200426|2020|  4| 26|    Sunday|\n",
      "|2020-04-21|20200421|2020|  4| 21|   Tuesday|\n",
      "|2020-03-09|20200309|2020|  3|  9|    Monday|\n",
      "|2020-07-05|20200705|2020|  7|  5|    Sunday|\n",
      "|2020-03-10|20200310|2020|  3| 10|   Tuesday|\n",
      "|2020-03-11|20200311|2020|  3| 11| Wednesday|\n",
      "+----------+--------+----+---+---+----------+\n",
      "only showing top 20 rows\n",
      "\n",
      "+--------+------------+-----------+-------+-----------+-------+\n",
      "|id_fecha|id_ubicacion|confirmados|muertes|recuperados|activos|\n",
      "+--------+------------+-----------+-------+-----------+-------+\n",
      "|20200122|          48|          0|      0|          0|      0|\n",
      "|20200122|          13|          0|      0|          0|      0|\n",
      "|20200122|          58|          0|      0|          0|      0|\n",
      "|20200122|         188|          0|      0|          0|      0|\n",
      "|20200122|           8|          0|      0|          0|      0|\n",
      "|20200122|         251|          0|      0|          0|      0|\n",
      "|20200122|         153|          0|      0|          0|      0|\n",
      "|20200122|          77|          0|      0|          0|      0|\n",
      "|20200122|         180|          0|      0|          0|      0|\n",
      "|20200122|          46|          0|      0|          0|      0|\n",
      "|20200122|          42|          0|      0|          0|      0|\n",
      "|20200122|         258|          0|      0|          0|      0|\n",
      "|20200122|          85|          0|      0|          0|      0|\n",
      "|20200122|          32|          0|      0|          0|      0|\n",
      "|20200122|         132|          0|      0|          0|      0|\n",
      "|20200122|          72|          0|      0|          0|      0|\n",
      "|20200122|         112|          0|      0|          0|      0|\n",
      "|20200122|           6|          0|      0|          0|      0|\n",
      "|20200122|         147|          0|      0|          0|      0|\n",
      "|20200122|           7|          0|      0|          0|      0|\n",
      "+--------+------------+-----------+-------+-----------+-------+\n",
      "only showing top 20 rows\n",
      "\n"
     ]
    }
   ],
   "source": [
    "dim_ubicacion_loaded = spark.read.parquet(\"/opt/spark/scripts/data/golden/dim_ubicacion\")\n",
    "dim_fecha_loaded = spark.read.parquet(\"/opt/spark/scripts/data/golden/dim_fecha\")\n",
    "fact_covid_casos_loaded = spark.read.parquet(\"/opt/spark/scripts/data/golden/fact_covid_casos\")\n",
    "\n",
    "dim_ubicacion_loaded.show()\n",
    "dim_fecha_loaded.show()\n",
    "fact_covid_casos_loaded.show()"
   ]
  }
 ],
 "metadata": {
  "kernelspec": {
   "display_name": "Python 3 (ipykernel)",
   "language": "python",
   "name": "python3"
  },
  "language_info": {
   "codemirror_mode": {
    "name": "ipython",
    "version": 3
   },
   "file_extension": ".py",
   "mimetype": "text/x-python",
   "name": "python",
   "nbconvert_exporter": "python",
   "pygments_lexer": "ipython3",
   "version": "3.8.10"
  }
 },
 "nbformat": 4,
 "nbformat_minor": 5
}
