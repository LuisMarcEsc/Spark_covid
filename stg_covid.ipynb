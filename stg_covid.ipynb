{
 "cells": [
  {
   "cell_type": "markdown",
   "id": "dcca9b3f-7bb5-40bb-b605-3289bae18bce",
   "metadata": {},
   "source": [
    "### Limpieza y enriquecimiento de datos en la capa silver."
   ]
  },
  {
   "cell_type": "markdown",
   "id": "81c5f9c7-74d8-4b39-b8cd-a8ea4b4e47c1",
   "metadata": {},
   "source": [
    "Se cargan los datos de la capa de bronce a un dataframe para la limpieza básica y enriquecimiento de los datos"
   ]
  },
  {
   "cell_type": "code",
   "execution_count": 1,
   "id": "15298207-41ba-4051-9f46-76974a3c8468",
   "metadata": {
    "collapsed": true,
    "jupyter": {
     "outputs_hidden": true,
     "source_hidden": true
    }
   },
   "outputs": [
    {
     "name": "stderr",
     "output_type": "stream",
     "text": [
      "Setting default log level to \"WARN\".\n",
      "To adjust logging level use sc.setLogLevel(newLevel). For SparkR, use setLogLevel(newLevel).\n",
      "25/07/22 19:27:31 WARN NativeCodeLoader: Unable to load native-hadoop library for your platform... using builtin-java classes where applicable\n",
      "25/07/22 19:27:32 WARN Utils: Service 'SparkUI' could not bind on port 4040. Attempting port 4041.\n",
      "                                                                                "
     ]
    },
    {
     "name": "stdout",
     "output_type": "stream",
     "text": [
      "+----------------------------+-------------------+---------+----------+----------+---------+------+---------+------+---------------------+\n",
      "|Province/State              |Country/Region     |Lat      |Long      |Date      |Confirmed|Deaths|Recovered|Active|WHO Region           |\n",
      "+----------------------------+-------------------+---------+----------+----------+---------+------+---------+------+---------------------+\n",
      "|NULL                        |Afghanistan        |33.93911 |67.709953 |2020-01-22|0        |0     |0        |0     |Eastern Mediterranean|\n",
      "|NULL                        |Albania            |41.1533  |20.1683   |2020-01-22|0        |0     |0        |0     |Europe               |\n",
      "|NULL                        |Algeria            |28.0339  |1.6596    |2020-01-22|0        |0     |0        |0     |Africa               |\n",
      "|NULL                        |Andorra            |42.5063  |1.5218    |2020-01-22|0        |0     |0        |0     |Europe               |\n",
      "|NULL                        |Angola             |-11.2027 |17.8739   |2020-01-22|0        |0     |0        |0     |Africa               |\n",
      "|NULL                        |Antigua and Barbuda|17.0608  |-61.7964  |2020-01-22|0        |0     |0        |0     |Americas             |\n",
      "|NULL                        |Argentina          |-38.4161 |-63.6167  |2020-01-22|0        |0     |0        |0     |Americas             |\n",
      "|NULL                        |Armenia            |40.0691  |45.0382   |2020-01-22|0        |0     |0        |0     |Europe               |\n",
      "|Australian Capital Territory|Australia          |-35.4735 |149.0124  |2020-01-22|0        |0     |0        |0     |Western Pacific      |\n",
      "|New South Wales             |Australia          |-33.8688 |151.2093  |2020-01-22|0        |0     |0        |0     |Western Pacific      |\n",
      "|Northern Territory          |Australia          |-12.4634 |130.8456  |2020-01-22|0        |0     |0        |0     |Western Pacific      |\n",
      "|Queensland                  |Australia          |-27.4698 |153.0251  |2020-01-22|0        |0     |0        |0     |Western Pacific      |\n",
      "|South Australia             |Australia          |-34.9285 |138.6007  |2020-01-22|0        |0     |0        |0     |Western Pacific      |\n",
      "|Tasmania                    |Australia          |-42.8821 |147.3272  |2020-01-22|0        |0     |0        |0     |Western Pacific      |\n",
      "|Victoria                    |Australia          |-37.8136 |144.9631  |2020-01-22|0        |0     |0        |0     |Western Pacific      |\n",
      "|Western Australia           |Australia          |-31.9505 |115.8605  |2020-01-22|0        |0     |0        |0     |Western Pacific      |\n",
      "|NULL                        |Austria            |47.5162  |14.5501   |2020-01-22|0        |0     |0        |0     |Europe               |\n",
      "|NULL                        |Azerbaijan         |40.1431  |47.5769   |2020-01-22|0        |0     |0        |0     |Europe               |\n",
      "|NULL                        |Bahamas            |25.025885|-78.035889|2020-01-22|0        |0     |0        |0     |Americas             |\n",
      "|NULL                        |Bahrain            |26.0275  |50.55     |2020-01-22|0        |0     |0        |0     |Eastern Mediterranean|\n",
      "+----------------------------+-------------------+---------+----------+----------+---------+------+---------+------+---------------------+\n",
      "only showing top 20 rows\n",
      "\n"
     ]
    }
   ],
   "source": [
    "from pyspark.sql import SparkSession\n",
    "from pyspark.sql.functions import col, to_date\n",
    "from pyspark.sql.types import DoubleType, IntegerType\n",
    "\n",
    "# Crear la sesión de Spark\n",
    "spark = SparkSession.builder \\\n",
    "    .appName(\"stg_covid\") \\\n",
    "    .master(\"local[*]\") \\\n",
    "    .getOrCreate()\n",
    "\n",
    "#  Leer el parquet ingestado de la capa Bronce\n",
    "df_bronce = spark.read.parquet(\"/opt/spark/scripts/data/bronce/covid_19_clean_complete\")\n",
    "df_bronce.show(truncate = False)"
   ]
  },
  {
   "cell_type": "markdown",
   "id": "b68d9e37-ca1e-42cd-9773-00247446cb1f",
   "metadata": {},
   "source": [
    "Se renombran columnas"
   ]
  },
  {
   "cell_type": "code",
   "execution_count": 2,
   "id": "4e03a081-8cfe-467a-acd9-4394f0632742",
   "metadata": {
    "jupyter": {
     "source_hidden": true
    }
   },
   "outputs": [],
   "source": [
    "df_silver = df_bronce.select(\n",
    "    col(\"Province/State\").alias(\"provincia_estado\"),\n",
    "    col(\"Country/Region\").alias(\"pais\"),\n",
    "    col(\"Lat\").cast(DoubleType()).alias(\"lat\"),\n",
    "    col(\"Long\").cast(DoubleType()).alias(\"long\"),\n",
    "    to_date(col(\"Date\"), \"yyyy-MM-dd\").alias(\"fecha\"),\n",
    "    col(\"Confirmed\").cast(IntegerType()).alias(\"confirmados\"),\n",
    "    col(\"Deaths\").cast(IntegerType()).alias(\"muertes\"),\n",
    "    col(\"Recovered\").cast(IntegerType()).alias(\"recuperados\"),\n",
    "    col(\"Active\").cast(IntegerType()).alias(\"activos\"),\n",
    "    col(\"WHO Region\").alias(\"region_who\")\n",
    ")"
   ]
  },
  {
   "cell_type": "markdown",
   "id": "97c01853-4550-4044-8a7f-3d766c77e4ac",
   "metadata": {},
   "source": [
    "Se limpian registros inválidos (por ejemplo, sin país o fecha)"
   ]
  },
  {
   "cell_type": "code",
   "execution_count": 4,
   "id": "ee88a523-85c6-47de-85be-1ee1b976466c",
   "metadata": {
    "jupyter": {
     "source_hidden": true
    }
   },
   "outputs": [],
   "source": [
    "df_silver = df_silver.filter(col(\"pais\").isNotNull() & col(\"fecha\").isNotNull())"
   ]
  },
  {
   "cell_type": "markdown",
   "id": "6ed80dac-0650-4d27-ac8e-d7edea36ce00",
   "metadata": {},
   "source": [
    "Se quitan registros que tengan todos los valores métricos en null (si existieran)"
   ]
  },
  {
   "cell_type": "code",
   "execution_count": 3,
   "id": "ccb6c374-1f3d-47f4-9ad3-2e8a739ef423",
   "metadata": {
    "jupyter": {
     "source_hidden": true
    }
   },
   "outputs": [],
   "source": [
    "df_silver = df_silver.filter(\n",
    "    col(\"confirmados\").isNotNull() |\n",
    "    col(\"muertes\").isNotNull() |\n",
    "    col(\"recuperados\").isNotNull() |\n",
    "    col(\"activos\").isNotNull()\n",
    ")"
   ]
  },
  {
   "cell_type": "markdown",
   "id": "c9eb41db-f53f-40e4-b5f2-a1b00f2a11bf",
   "metadata": {},
   "source": [
    "Se reemplazan nulls por 0 en métricas numéricas y con el texto desconocido en el caso de la \"provincia_estado\""
   ]
  },
  {
   "cell_type": "code",
   "execution_count": 4,
   "id": "dfb60944-f21f-4b8c-a57f-beef37c57485",
   "metadata": {
    "jupyter": {
     "source_hidden": true
    }
   },
   "outputs": [],
   "source": [
    "df_silver = df_silver.fillna({\n",
    "    \"confirmados\": 0,\n",
    "    \"muertes\": 0,\n",
    "    \"recuperados\": 0,\n",
    "    \"activos\": 0,\n",
    "    \"provincia_estado\": \"Desconocido\"\n",
    "})"
   ]
  },
  {
   "cell_type": "markdown",
   "id": "d231bfe6-14dc-41ce-b34d-cb92c2dc1b8d",
   "metadata": {},
   "source": [
    "Guardar con formato .parquet en la capa Silver"
   ]
  },
  {
   "cell_type": "code",
   "execution_count": 5,
   "id": "212c9494-e25f-42a1-a538-93e3c30814b0",
   "metadata": {
    "collapsed": true,
    "jupyter": {
     "outputs_hidden": true,
     "source_hidden": true
    }
   },
   "outputs": [
    {
     "name": "stderr",
     "output_type": "stream",
     "text": [
      "                                                                                "
     ]
    }
   ],
   "source": [
    "df_silver.write.mode(\"overwrite\").parquet(\"/opt/spark/scripts/data/silver/casos_diarios\")"
   ]
  },
  {
   "cell_type": "markdown",
   "id": "e86beacb-a090-483a-8441-82370df2efe2",
   "metadata": {},
   "source": [
    "Se realiza la consulta para ver el resultado en la capa silver"
   ]
  },
  {
   "cell_type": "code",
   "execution_count": 7,
   "id": "ed7a36fa-1b1c-453e-ba4a-c7fe523b9be2",
   "metadata": {
    "collapsed": true,
    "jupyter": {
     "outputs_hidden": true,
     "source_hidden": true
    },
    "scrolled": true
   },
   "outputs": [
    {
     "name": "stdout",
     "output_type": "stream",
     "text": [
      "+--------------------+-------------------+---------+----------+----------+-----------+-------+-----------+-------+--------------------+\n",
      "|    provincia_estado|               pais|      lat|      long|     fecha|confirmados|muertes|recuperados|activos|          region_who|\n",
      "+--------------------+-------------------+---------+----------+----------+-----------+-------+-----------+-------+--------------------+\n",
      "|         Desconocido|        Afghanistan| 33.93911| 67.709953|2020-01-22|          0|      0|          0|      0|Eastern Mediterra...|\n",
      "|         Desconocido|            Albania|  41.1533|   20.1683|2020-01-22|          0|      0|          0|      0|              Europe|\n",
      "|         Desconocido|            Algeria|  28.0339|    1.6596|2020-01-22|          0|      0|          0|      0|              Africa|\n",
      "|         Desconocido|            Andorra|  42.5063|    1.5218|2020-01-22|          0|      0|          0|      0|              Europe|\n",
      "|         Desconocido|             Angola| -11.2027|   17.8739|2020-01-22|          0|      0|          0|      0|              Africa|\n",
      "|         Desconocido|Antigua and Barbuda|  17.0608|  -61.7964|2020-01-22|          0|      0|          0|      0|            Americas|\n",
      "|         Desconocido|          Argentina| -38.4161|  -63.6167|2020-01-22|          0|      0|          0|      0|            Americas|\n",
      "|         Desconocido|            Armenia|  40.0691|   45.0382|2020-01-22|          0|      0|          0|      0|              Europe|\n",
      "|Australian Capita...|          Australia| -35.4735|  149.0124|2020-01-22|          0|      0|          0|      0|     Western Pacific|\n",
      "|     New South Wales|          Australia| -33.8688|  151.2093|2020-01-22|          0|      0|          0|      0|     Western Pacific|\n",
      "|  Northern Territory|          Australia| -12.4634|  130.8456|2020-01-22|          0|      0|          0|      0|     Western Pacific|\n",
      "|          Queensland|          Australia| -27.4698|  153.0251|2020-01-22|          0|      0|          0|      0|     Western Pacific|\n",
      "|     South Australia|          Australia| -34.9285|  138.6007|2020-01-22|          0|      0|          0|      0|     Western Pacific|\n",
      "|            Tasmania|          Australia| -42.8821|  147.3272|2020-01-22|          0|      0|          0|      0|     Western Pacific|\n",
      "|            Victoria|          Australia| -37.8136|  144.9631|2020-01-22|          0|      0|          0|      0|     Western Pacific|\n",
      "|   Western Australia|          Australia| -31.9505|  115.8605|2020-01-22|          0|      0|          0|      0|     Western Pacific|\n",
      "|         Desconocido|            Austria|  47.5162|   14.5501|2020-01-22|          0|      0|          0|      0|              Europe|\n",
      "|         Desconocido|         Azerbaijan|  40.1431|   47.5769|2020-01-22|          0|      0|          0|      0|              Europe|\n",
      "|         Desconocido|            Bahamas|25.025885|-78.035889|2020-01-22|          0|      0|          0|      0|            Americas|\n",
      "|         Desconocido|            Bahrain|  26.0275|     50.55|2020-01-22|          0|      0|          0|      0|Eastern Mediterra...|\n",
      "+--------------------+-------------------+---------+----------+----------+-----------+-------+-----------+-------+--------------------+\n",
      "only showing top 20 rows\n",
      "\n"
     ]
    }
   ],
   "source": [
    "df = spark.read.parquet(\"/opt/spark/scripts/data/silver/casos_diarios\")\n",
    "df.show()"
   ]
  }
 ],
 "metadata": {
  "kernelspec": {
   "display_name": "Python 3 (ipykernel)",
   "language": "python",
   "name": "python3"
  },
  "language_info": {
   "codemirror_mode": {
    "name": "ipython",
    "version": 3
   },
   "file_extension": ".py",
   "mimetype": "text/x-python",
   "name": "python",
   "nbconvert_exporter": "python",
   "pygments_lexer": "ipython3",
   "version": "3.8.10"
  }
 },
 "nbformat": 4,
 "nbformat_minor": 5
}
